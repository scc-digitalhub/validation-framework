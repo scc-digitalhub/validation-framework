{
 "cells": [
  {
   "cell_type": "markdown",
   "id": "scheduled-stockholm",
   "metadata": {},
   "source": [
    "**SETUP**\n",
    "\n",
    "Import and set paths to input data and validation schema."
   ]
  },
  {
   "cell_type": "code",
   "execution_count": null,
   "id": "compatible-counter",
   "metadata": {},
   "outputs": [],
   "source": [
    "import datajudge as dj"
   ]
  },
  {
   "cell_type": "code",
   "execution_count": null,
   "id": "civil-generation",
   "metadata": {},
   "outputs": [],
   "source": [
    "PATH_DATA = 'path/to/data'\n",
    "PATH_SCHEMA = 'path/to/schema'"
   ]
  },
  {
   "cell_type": "markdown",
   "id": "identified-earthquake",
   "metadata": {},
   "source": [
    "**CREATE DATARESOURCE**\n",
    "\n",
    "For the creation of a data resource, the only argument required is the path where to retrieve data.\n",
    "Other fields are optional, but it's advised to add them, because they cannot be inferred from validation framworks."
   ]
  },
  {
   "cell_type": "code",
   "execution_count": null,
   "id": "drawn-speaking",
   "metadata": {},
   "outputs": [],
   "source": [
    "data = dj.DataResource(PATH_DATA,\n",
    "                       schema=PATH_SCHEMA,\n",
    "                       name=\"Example Data Resource\")"
   ]
  },
  {
   "cell_type": "markdown",
   "id": "absent-constitutional",
   "metadata": {},
   "source": [
    "**CREATE CLIENT**\n",
    "\n",
    "The client allows us to interact with storages and create runs.\n",
    "If no arguments are provided, by default the client istantiates local stores."
   ]
  },
  {
   "cell_type": "code",
   "execution_count": null,
   "id": "valuable-resort",
   "metadata": {},
   "outputs": [],
   "source": [
    "client = dj.Client()"
   ]
  },
  {
   "cell_type": "markdown",
   "id": "facial-charger",
   "metadata": {},
   "source": [
    "**CREATE RUN**\n",
    "\n",
    "With the client we can create a run that uses `frictionless` as validation framework."
   ]
  },
  {
   "cell_type": "code",
   "execution_count": null,
   "id": "productive-adaptation",
   "metadata": {},
   "outputs": [],
   "source": [
    "run = client.create_run(data, \"frictionless\")"
   ]
  },
  {
   "cell_type": "markdown",
   "id": "vocational-sudan",
   "metadata": {},
   "source": [
    "**RUN EXECUTION**\n",
    "\n",
    "We use the run as contecx manager. This allows the run to register execution times."
   ]
  },
  {
   "cell_type": "code",
   "execution_count": null,
   "id": "cutting-salon",
   "metadata": {},
   "outputs": [],
   "source": [
    "with run:\n",
    "   \n",
    "    # METADATA\n",
    "    # Validation and profiling\n",
    "    \n",
    "    # Logging of the descriptor file data_resource.json\n",
    "    # (see frictionless Data Resource: https://specs.frictionlessdata.io/data-resource/)\n",
    "    run.log_data_resource()\n",
    "    \n",
    "    # Logging of a shortened and anonymized version of the validation report produced by frictionless.\n",
    "    # Note that the validation process is autonomously executed by datajudge.\n",
    "    run.log_DJ_REPORT()\n",
    "    \n",
    "    # Logging of a basic schema definition parsed from the one inferred by frictionless.\n",
    "    run.log_DJ_SCHEMA()\n",
    "    \n",
    "    # Logging of a shortened and anonymized version of the profile produced\n",
    "    # by pandas_profiling.\n",
    "    run.log_profile()\n",
    "\n",
    "\n",
    "    # ARTIFACTS\n",
    "    # Persistence of input and outputs\n",
    "    \n",
    "    # Persist input data (data + validation schema)\n",
    "    run.persist_data()\n",
    "\n",
    "    # Persist full report produced by frictionless.\n",
    "    run.persist_full_report()\n",
    "\n",
    "    # Persist inferred schema\n",
    "    run.persist_inferred_schema()\n",
    "\n",
    "    # Persist pandas_profiling report both in JSON and HTML format.\n",
    "    run.persist_profile()"
   ]
  }
 ],
 "metadata": {
  "kernelspec": {
   "display_name": "Python 3.7.5 64-bit ('wrapper')",
   "language": "python",
   "name": "python37564bitwrapper9c4a41f81be7447a824c0614040c3816"
  },
  "language_info": {
   "codemirror_mode": {
    "name": "ipython",
    "version": 3
   },
   "file_extension": ".py",
   "mimetype": "text/x-python",
   "name": "python",
   "nbconvert_exporter": "python",
   "pygments_lexer": "ipython3",
   "version": "3.7.5"
  }
 },
 "nbformat": 4,
 "nbformat_minor": 5
}
