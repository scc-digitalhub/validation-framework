{
 "cells": [
  {
   "cell_type": "markdown",
   "id": "scheduled-stockholm",
   "metadata": {},
   "source": [
    "**SETUP**\n",
    "\n",
    "Import and set configurations for stores, resources, run and constraints."
   ]
  },
  {
   "cell_type": "code",
   "execution_count": null,
   "id": "compatible-counter",
   "metadata": {},
   "outputs": [],
   "source": [
    "import datajudge as dj"
   ]
  },
  {
   "cell_type": "code",
   "execution_count": null,
   "id": "civil-generation",
   "metadata": {},
   "outputs": [],
   "source": [
    "# Metadata Store\n",
    "METADATA_STORE = dj.StoreConfig(title=\"Local Metadata Store\",\n",
    "                                name=\"local_md\",\n",
    "                                uri=\"./djruns\")\n",
    "\n",
    "\n",
    "# Artifact Store\n",
    "STORE_LOCAL_01 = dj.StoreConfig(name=\"local\",\n",
    "                                uri=\"./djruns\",\n",
    "                                isDefault=True)\n",
    "\n",
    "\n",
    "# Data Resource\n",
    "RES_LOCAL_01 = dj.DataResource(path=\"path-to-data\",\n",
    "                               name=\"example-resource\",\n",
    "                               store=\"local\")\n",
    "\n",
    "\n",
    "# Example constraint\n",
    "CONSTRAINT_01 = dj.ConstraintsFrictionless(type=\"frictionless\",\n",
    "                                           title=\"Example frictionless constraint\",\n",
    "                                           name=\"example-const\",\n",
    "                                           resources=[\"example-resource\"],\n",
    "                                           field=\"field-to-validate\",\n",
    "                                           fieldType=\"string\",\n",
    "                                           constraint=\"maxLength\",\n",
    "                                           value=11,\n",
    "                                           weight=5)\n",
    "\n",
    "\n",
    "RUN_CFG = dj.RunConfig(\n",
    "        inference=[\n",
    "            {\n",
    "                \"library\": \"frictionless\"\n",
    "            }\n",
    "        ],\n",
    "        validation=[\n",
    "            {\n",
    "                \"library\": \"frictionless\"\n",
    "            }\n",
    "        ],\n",
    "        profiling=[\n",
    "            {\n",
    "                \"library\": \"pandas_profiling\",\n",
    "                \"execArgs\": {\"minimal\":True, \"progress_bar\":False}\n",
    "            }\n",
    "        ]\n",
    ")"
   ]
  },
  {
   "cell_type": "markdown",
   "id": "absent-constitutional",
   "metadata": {},
   "source": [
    "**CREATE CLIENT**\n",
    "\n",
    "The client allows the interaction with storages and create runs."
   ]
  },
  {
   "cell_type": "code",
   "execution_count": null,
   "id": "valuable-resort",
   "metadata": {},
   "outputs": [],
   "source": [
    "client = dj.Client(metadata_store=METADATA_STORE,\n",
    "                   store=[STORE_LOCAL_01])"
   ]
  },
  {
   "cell_type": "markdown",
   "id": "facial-charger",
   "metadata": {},
   "source": [
    "**CREATE RUN**\n",
    "\n",
    "With the client we can create a run under a specific experiment."
   ]
  },
  {
   "cell_type": "code",
   "execution_count": null,
   "id": "productive-adaptation",
   "metadata": {},
   "outputs": [],
   "source": [
    "run = client.create_run([RES_LOCAL_01],\n",
    "                        RUN_CFG,\n",
    "                        experiment=\"EXP-NAME\")"
   ]
  },
  {
   "cell_type": "markdown",
   "id": "vocational-sudan",
   "metadata": {},
   "source": [
    "**RUN EXECUTION**\n",
    "\n",
    "We use the run as contecx manager. This allows the run to register execution times."
   ]
  },
  {
   "cell_type": "code",
   "execution_count": null,
   "id": "cutting-salon",
   "metadata": {},
   "outputs": [],
   "source": [
    "    \n",
    "with run:\n",
    "    \n",
    "    # Execute inference\n",
    "    run.infer()\n",
    "    \n",
    "    # Execute profiling\n",
    "    run.profile()\n",
    "    \n",
    "    # Execute validation for a list of constraints\n",
    "    run.validate(constraints=[CONSTRAINT_01])\n",
    "\n",
    "    # Log a datajudge schema into the metadata store\n",
    "    run.log_schema()\n",
    "    \n",
    "    # Log a datajudge profile into the metadata store\n",
    "    run.log_profile()\n",
    "    \n",
    "    # Log a datajudge report into the metadata store\n",
    "    run.log_report()\n",
    "\n",
    "    # Artifacts produced by choosen inference/validation/profiling framework are persisted in the default artifact store.\n",
    "    # Persist an inferred resource schema\n",
    "    run.persist_schema()\n",
    "    \n",
    "    # Persist a profile\n",
    "    run.persist_profile()\n",
    "    \n",
    "    # Persist a validation report\n",
    "    run.persist_report()"
   ]
  }
 ],
 "metadata": {
  "kernelspec": {
   "display_name": "Python 3.7.5 64-bit ('wrapper')",
   "language": "python",
   "name": "python37564bitwrapper9c4a41f81be7447a824c0614040c3816"
  },
  "language_info": {
   "codemirror_mode": {
    "name": "ipython",
    "version": 3
   },
   "file_extension": ".py",
   "mimetype": "text/x-python",
   "name": "python",
   "nbconvert_exporter": "python",
   "pygments_lexer": "ipython3",
   "version": "3.7.5"
  }
 },
 "nbformat": 4,
 "nbformat_minor": 5
}
